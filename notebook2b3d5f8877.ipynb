{
 "cells": [
  {
   "cell_type": "code",
   "execution_count": 1,
   "id": "c2493b19",
   "metadata": {
    "_cell_guid": "b1076dfc-b9ad-4769-8c92-a6c4dae69d19",
    "_uuid": "8f2839f25d086af736a60e9eeb907d3b93b6e0e5",
    "execution": {
     "iopub.execute_input": "2022-04-19T14:06:08.260348Z",
     "iopub.status.busy": "2022-04-19T14:06:08.260023Z",
     "iopub.status.idle": "2022-04-19T14:06:08.273310Z",
     "shell.execute_reply": "2022-04-19T14:06:08.272402Z"
    },
    "papermill": {
     "duration": 0.03243,
     "end_time": "2022-04-19T14:06:08.275423",
     "exception": false,
     "start_time": "2022-04-19T14:06:08.242993",
     "status": "completed"
    },
    "tags": []
   },
   "outputs": [
    {
     "name": "stdout",
     "output_type": "stream",
     "text": [
      "/kaggle/input/msbd5001-spring-2022/sample_submission.csv\n",
      "/kaggle/input/msbd5001-spring-2022/train.csv\n",
      "/kaggle/input/msbd5001-spring-2022/test.csv\n"
     ]
    }
   ],
   "source": [
    "# This Python 3 environment comes with many helpful analytics libraries installed\n",
    "# It is defined by the kaggle/python Docker image: https://github.com/kaggle/docker-python\n",
    "# For example, here's several helpful packages to load\n",
    "\n",
    "import numpy as np # linear algebra\n",
    "import pandas as pd # data processing, CSV file I/O (e.g. pd.read_csv)\n",
    "\n",
    "# Input data files are available in the read-only \"../input/\" directory\n",
    "# For example, running this (by clicking run or pressing Shift+Enter) will list all files under the input directory\n",
    "\n",
    "import os\n",
    "for dirname, _, filenames in os.walk('/kaggle/input'):\n",
    "    for filename in filenames:\n",
    "        print(os.path.join(dirname, filename))\n",
    "\n",
    "# You can write up to 20GB to the current directory (/kaggle/working/) that gets preserved as output when you create a version using \"Save & Run All\" \n",
    "# You can also write temporary files to /kaggle/temp/, but they won't be saved outside of the current session"
   ]
  },
  {
   "cell_type": "code",
   "execution_count": 2,
   "id": "3b08f307",
   "metadata": {
    "execution": {
     "iopub.execute_input": "2022-04-19T14:06:08.307983Z",
     "iopub.status.busy": "2022-04-19T14:06:08.307499Z",
     "iopub.status.idle": "2022-04-19T14:06:08.325174Z",
     "shell.execute_reply": "2022-04-19T14:06:08.323673Z"
    },
    "papermill": {
     "duration": 0.036611,
     "end_time": "2022-04-19T14:06:08.327833",
     "exception": false,
     "start_time": "2022-04-19T14:06:08.291222",
     "status": "completed"
    },
    "tags": []
   },
   "outputs": [],
   "source": [
    "test = pd.read_csv('/kaggle/input/msbd5001-spring-2022/test.csv')"
   ]
  },
  {
   "cell_type": "code",
   "execution_count": 3,
   "id": "c5692c4e",
   "metadata": {
    "execution": {
     "iopub.execute_input": "2022-04-19T14:06:08.359658Z",
     "iopub.status.busy": "2022-04-19T14:06:08.359100Z",
     "iopub.status.idle": "2022-04-19T14:06:09.832233Z",
     "shell.execute_reply": "2022-04-19T14:06:09.830930Z"
    },
    "papermill": {
     "duration": 1.492129,
     "end_time": "2022-04-19T14:06:09.835140",
     "exception": false,
     "start_time": "2022-04-19T14:06:08.343011",
     "status": "completed"
    },
    "tags": []
   },
   "outputs": [],
   "source": [
    "train = pd.read_csv('/kaggle/input/msbd5001-spring-2022/train.csv')\n",
    "from sklearn.impute import SimpleImputer\n",
    "sim = SimpleImputer(missing_values=np.nan, strategy='mean')\n",
    "train = sim.fit_transform(train)\n",
    "sim = SimpleImputer(missing_values=np.nan, strategy='mean')\n",
    "test = sim.fit_transform(test)"
   ]
  },
  {
   "cell_type": "code",
   "execution_count": 4,
   "id": "8ea8d3b1",
   "metadata": {
    "execution": {
     "iopub.execute_input": "2022-04-19T14:06:09.869689Z",
     "iopub.status.busy": "2022-04-19T14:06:09.869328Z",
     "iopub.status.idle": "2022-04-19T14:06:09.875424Z",
     "shell.execute_reply": "2022-04-19T14:06:09.874731Z"
    },
    "papermill": {
     "duration": 0.025963,
     "end_time": "2022-04-19T14:06:09.877991",
     "exception": false,
     "start_time": "2022-04-19T14:06:09.852028",
     "status": "completed"
    },
    "tags": []
   },
   "outputs": [],
   "source": [
    "from sklearn.model_selection import train_test_split\n",
    "X_train, X_test, Y_train, Y_test = train_test_split(train[:,:-1] , train[:, -1:] , test_size=0.1, random_state=0)"
   ]
  },
  {
   "cell_type": "code",
   "execution_count": 5,
   "id": "fc50d17d",
   "metadata": {
    "execution": {
     "iopub.execute_input": "2022-04-19T14:06:09.913261Z",
     "iopub.status.busy": "2022-04-19T14:06:09.912800Z",
     "iopub.status.idle": "2022-04-19T14:06:10.135379Z",
     "shell.execute_reply": "2022-04-19T14:06:10.133556Z"
    },
    "papermill": {
     "duration": 0.24542,
     "end_time": "2022-04-19T14:06:10.139780",
     "exception": false,
     "start_time": "2022-04-19T14:06:09.894360",
     "status": "completed"
    },
    "tags": []
   },
   "outputs": [],
   "source": [
    "from sklearn.ensemble import RandomForestClassifier\n",
    "from sklearn.datasets import make_classification"
   ]
  },
  {
   "cell_type": "code",
   "execution_count": 6,
   "id": "9bde5dfd",
   "metadata": {
    "execution": {
     "iopub.execute_input": "2022-04-19T14:06:10.171583Z",
     "iopub.status.busy": "2022-04-19T14:06:10.171266Z",
     "iopub.status.idle": "2022-04-19T14:06:10.354068Z",
     "shell.execute_reply": "2022-04-19T14:06:10.353071Z"
    },
    "papermill": {
     "duration": 0.201689,
     "end_time": "2022-04-19T14:06:10.356397",
     "exception": false,
     "start_time": "2022-04-19T14:06:10.154708",
     "status": "completed"
    },
    "tags": []
   },
   "outputs": [
    {
     "name": "stderr",
     "output_type": "stream",
     "text": [
      "/opt/conda/lib/python3.7/site-packages/ipykernel_launcher.py:1: DataConversionWarning: A column-vector y was passed when a 1d array was expected. Please change the shape of y to (n_samples,), for example using ravel().\n",
      "  \"\"\"Entry point for launching an IPython kernel.\n"
     ]
    }
   ],
   "source": [
    "\n",
    "clf = RandomForestClassifier().fit(X_train, Y_train)\n"
   ]
  },
  {
   "cell_type": "code",
   "execution_count": 7,
   "id": "ec30f891",
   "metadata": {
    "execution": {
     "iopub.execute_input": "2022-04-19T14:06:10.390456Z",
     "iopub.status.busy": "2022-04-19T14:06:10.390126Z",
     "iopub.status.idle": "2022-04-19T14:06:10.405419Z",
     "shell.execute_reply": "2022-04-19T14:06:10.404673Z"
    },
    "papermill": {
     "duration": 0.035305,
     "end_time": "2022-04-19T14:06:10.407778",
     "exception": false,
     "start_time": "2022-04-19T14:06:10.372473",
     "status": "completed"
    },
    "tags": []
   },
   "outputs": [],
   "source": [
    "res = clf.predict(X_test)\n",
    "res = pd.DataFrame(res.astype(np.int32))"
   ]
  },
  {
   "cell_type": "code",
   "execution_count": 8,
   "id": "6d1b0f11",
   "metadata": {
    "execution": {
     "iopub.execute_input": "2022-04-19T14:06:10.440183Z",
     "iopub.status.busy": "2022-04-19T14:06:10.439679Z",
     "iopub.status.idle": "2022-04-19T14:06:10.447991Z",
     "shell.execute_reply": "2022-04-19T14:06:10.446719Z"
    },
    "papermill": {
     "duration": 0.027234,
     "end_time": "2022-04-19T14:06:10.450346",
     "exception": false,
     "start_time": "2022-04-19T14:06:10.423112",
     "status": "completed"
    },
    "tags": []
   },
   "outputs": [
    {
     "name": "stdout",
     "output_type": "stream",
     "text": [
      "100.0\n"
     ]
    }
   ],
   "source": [
    "from sklearn.metrics import accuracy_score\n",
    "acc = accuracy_score(res,Y_test)\n",
    "print(acc*100)"
   ]
  },
  {
   "cell_type": "code",
   "execution_count": 9,
   "id": "0cb673ff",
   "metadata": {
    "execution": {
     "iopub.execute_input": "2022-04-19T14:06:10.483914Z",
     "iopub.status.busy": "2022-04-19T14:06:10.483501Z",
     "iopub.status.idle": "2022-04-19T14:06:10.488665Z",
     "shell.execute_reply": "2022-04-19T14:06:10.487564Z"
    },
    "papermill": {
     "duration": 0.025046,
     "end_time": "2022-04-19T14:06:10.491074",
     "exception": false,
     "start_time": "2022-04-19T14:06:10.466028",
     "status": "completed"
    },
    "tags": []
   },
   "outputs": [],
   "source": [
    "x_train = train[:,:-1]\n",
    "y_train = train[:, -1:]\n"
   ]
  },
  {
   "cell_type": "code",
   "execution_count": 10,
   "id": "9faf7e69",
   "metadata": {
    "execution": {
     "iopub.execute_input": "2022-04-19T14:06:10.524735Z",
     "iopub.status.busy": "2022-04-19T14:06:10.524258Z",
     "iopub.status.idle": "2022-04-19T14:06:10.702977Z",
     "shell.execute_reply": "2022-04-19T14:06:10.701745Z"
    },
    "papermill": {
     "duration": 0.198163,
     "end_time": "2022-04-19T14:06:10.705226",
     "exception": false,
     "start_time": "2022-04-19T14:06:10.507063",
     "status": "completed"
    },
    "tags": []
   },
   "outputs": [
    {
     "name": "stderr",
     "output_type": "stream",
     "text": [
      "/opt/conda/lib/python3.7/site-packages/ipykernel_launcher.py:1: DataConversionWarning: A column-vector y was passed when a 1d array was expected. Please change the shape of y to (n_samples,), for example using ravel().\n",
      "  \"\"\"Entry point for launching an IPython kernel.\n"
     ]
    }
   ],
   "source": [
    "clf = RandomForestClassifier().fit(x_train, y_train)"
   ]
  },
  {
   "cell_type": "code",
   "execution_count": 11,
   "id": "4d8c4ee1",
   "metadata": {
    "execution": {
     "iopub.execute_input": "2022-04-19T14:06:10.740651Z",
     "iopub.status.busy": "2022-04-19T14:06:10.740328Z",
     "iopub.status.idle": "2022-04-19T14:06:10.758753Z",
     "shell.execute_reply": "2022-04-19T14:06:10.758071Z"
    },
    "papermill": {
     "duration": 0.039541,
     "end_time": "2022-04-19T14:06:10.761640",
     "exception": false,
     "start_time": "2022-04-19T14:06:10.722099",
     "status": "completed"
    },
    "tags": []
   },
   "outputs": [],
   "source": [
    "res = clf.predict(test)\n",
    "res = pd.DataFrame(res.astype(np.int32))"
   ]
  },
  {
   "cell_type": "code",
   "execution_count": 12,
   "id": "aa4f72c5",
   "metadata": {
    "execution": {
     "iopub.execute_input": "2022-04-19T14:06:10.797425Z",
     "iopub.status.busy": "2022-04-19T14:06:10.796607Z",
     "iopub.status.idle": "2022-04-19T14:06:10.804647Z",
     "shell.execute_reply": "2022-04-19T14:06:10.803716Z"
    },
    "papermill": {
     "duration": 0.028924,
     "end_time": "2022-04-19T14:06:10.807001",
     "exception": false,
     "start_time": "2022-04-19T14:06:10.778077",
     "status": "completed"
    },
    "tags": []
   },
   "outputs": [],
   "source": [
    "res.to_csv('/kaggle/working/submission.csv',index=False)"
   ]
  },
  {
   "cell_type": "code",
   "execution_count": null,
   "id": "7f5887f4",
   "metadata": {
    "papermill": {
     "duration": 0.017087,
     "end_time": "2022-04-19T14:06:10.842008",
     "exception": false,
     "start_time": "2022-04-19T14:06:10.824921",
     "status": "completed"
    },
    "tags": []
   },
   "outputs": [],
   "source": []
  }
 ],
 "metadata": {
  "kernelspec": {
   "display_name": "Python 3",
   "language": "python",
   "name": "python3"
  },
  "language_info": {
   "codemirror_mode": {
    "name": "ipython",
    "version": 3
   },
   "file_extension": ".py",
   "mimetype": "text/x-python",
   "name": "python",
   "nbconvert_exporter": "python",
   "pygments_lexer": "ipython3",
   "version": "3.7.12"
  },
  "papermill": {
   "default_parameters": {},
   "duration": 14.506418,
   "end_time": "2022-04-19T14:06:11.683844",
   "environment_variables": {},
   "exception": null,
   "input_path": "__notebook__.ipynb",
   "output_path": "__notebook__.ipynb",
   "parameters": {},
   "start_time": "2022-04-19T14:05:57.177426",
   "version": "2.3.4"
  }
 },
 "nbformat": 4,
 "nbformat_minor": 5
}
